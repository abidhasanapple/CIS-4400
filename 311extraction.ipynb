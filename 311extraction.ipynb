{
 "cells": [
  {
   "cell_type": "code",
   "execution_count": null,
   "id": "0a8829a0",
   "metadata": {},
   "outputs": [
    {
     "name": "stdout",
     "output_type": "stream",
     "text": [
      "Collecting sodapy\n",
      "  Downloading sodapy-2.2.0-py2.py3-none-any.whl (15 kB)\n",
      "Requirement already satisfied: requests>=2.28.1 in c:\\users\\abidh\\downloads\\anaconda\\lib\\site-packages (from sodapy) (2.28.1)\n",
      "Requirement already satisfied: certifi>=2017.4.17 in c:\\users\\abidh\\downloads\\anaconda\\lib\\site-packages (from requests>=2.28.1->sodapy) (2022.12.7)\n",
      "Requirement already satisfied: idna<4,>=2.5 in c:\\users\\abidh\\downloads\\anaconda\\lib\\site-packages (from requests>=2.28.1->sodapy) (3.4)\n",
      "Requirement already satisfied: urllib3<1.27,>=1.21.1 in c:\\users\\abidh\\downloads\\anaconda\\lib\\site-packages (from requests>=2.28.1->sodapy) (1.26.14)\n",
      "Requirement already satisfied: charset-normalizer<3,>=2 in c:\\users\\abidh\\downloads\\anaconda\\lib\\site-packages (from requests>=2.28.1->sodapy) (2.0.4)\n",
      "Installing collected packages: sodapy\n",
      "Successfully installed sodapy-2.2.0\n",
      "['Unique Key', 'Created Date', 'Closed Date', 'Agency', 'Agency Name', 'Complaint Type', 'Descriptor', 'Location Type', 'Incident Zip', 'Incident Address', 'Street Name', 'Cross Street 1', 'Cross Street 2', 'Intersection Street 1', 'Intersection Street 2', 'Address Type', 'City', 'Landmark', 'Facility Type', 'Status', 'Due Date', 'Resolution Description', 'Resolution Action Updated Date', 'Community Board', 'BBL', 'Borough', 'X Coordinate (State Plane)', 'Y Coordinate (State Plane)', 'Open Data Channel Type', 'Park Facility Name', 'Park Borough', 'Vehicle Type', 'Taxi Company Borough', 'Taxi Pick Up Location', 'Bridge Highway Name', 'Bridge Highway Direction', 'Road Ramp', 'Bridge Highway Segment', 'Latitude', 'Longitude', 'Location', 'Zip Codes', 'Community Districts', 'Borough Boundaries', 'City Council Districts', 'Police Precincts']\n"
     ]
    }
   ],
   "source": [
    "import pandas as pd\n",
    "!pip install sodapy\n",
    "from sodapy import Socrata\n",
    "\n",
    " \n",
    "\n",
    "data_url = 'data.cityofnewyork.us'\n",
    "data_set = 'erm2-nwe9'\n",
    "app_token = 'XvMR7RBARLotSL2V6l3jiEDvC'\n",
    "client = Socrata(data_url, app_token)\n",
    "client.timeout = 120\n",
    "\n",
    " \n",
    "\n",
    " \n",
    "\n",
    "metadata = client.get_metadata(data_set)\n",
    "columns = [x['name'] for x in metadata['columns']]\n",
    "print(columns)\n",
    "\n",
    " \n",
    "\n",
    " \n",
    "\n",
    "results = client.get(data_set, where=\"agency = 'NYPD' AND date_extract_y(created_date) BETWEEN 2017 AND 2023\",\n",
    "                     select=\"unique_key, created_date, closed_date, agency, agency_name, complaint_type, descriptor, location_type, incident_zip, incident_address, borough, city\", limit=20000000)\n",
    "\n",
    " \n",
    "\n",
    " \n",
    "\n",
    "df = pd.DataFrame.from_records(results)\n",
    "#df.to_csv(\"mydata_v1.csv\", index=False)\n",
    "df"
   ]
  },
  {
   "cell_type": "code",
   "execution_count": null,
   "id": "8c80c591",
   "metadata": {},
   "outputs": [],
   "source": []
  }
 ],
 "metadata": {
  "kernelspec": {
   "display_name": "Python 3 (ipykernel)",
   "language": "python",
   "name": "python3"
  },
  "language_info": {
   "codemirror_mode": {
    "name": "ipython",
    "version": 3
   },
   "file_extension": ".py",
   "mimetype": "text/x-python",
   "name": "python",
   "nbconvert_exporter": "python",
   "pygments_lexer": "ipython3",
   "version": "3.10.9"
  }
 },
 "nbformat": 4,
 "nbformat_minor": 5
}
